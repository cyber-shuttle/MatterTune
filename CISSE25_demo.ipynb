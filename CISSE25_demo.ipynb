{
 "cells": [
  {
   "cell_type": "code",
   "execution_count": 1,
   "id": "46887664-4eb5-4757-b2da-1a686fedb6b2",
   "metadata": {},
   "outputs": [
    {
     "name": "stdout",
     "output_type": "stream",
     "text": [
      "Note: you may need to restart the kernel to use updated packages.\n",
      "Note: you may need to restart the kernel to use updated packages.\n"
     ]
    }
   ],
   "source": [
    "%pip install -qU \"airavata-python-sdk[notebook]\"\n",
    "%pip install -qU ipywidgets"
   ]
  },
  {
   "cell_type": "code",
   "execution_count": 1,
   "id": "5edc1b41",
   "metadata": {},
   "outputs": [
    {
     "data": {
      "text/html": [
       "<pre style=\"white-space:pre;overflow-x:auto;line-height:normal;font-family:Menlo,'DejaVu Sans Mono',consolas,'Courier New',monospace\">Connecting <span style=\"color: #808000; text-decoration-color: #808000\">to</span>=<span style=\"color: #800080; text-decoration-color: #800080\">hpc_gpu</span><span style=\"color: #808000; text-decoration-color: #808000\">...</span> <span style=\"color: #808000; text-decoration-color: #808000\">status</span>=<span style=\"color: #800080; text-decoration-color: #800080\">CONNECTED</span>\n",
       "\n",
       "====<span style=\"font-weight: bold\">[</span>STDOUT<span style=\"font-weight: bold\">]</span>====\n",
       "<span style=\"color: #000000; text-decoration-color: #000000\">Requirement already satisfied: werkzeug&gt;=</span><span style=\"color: #000000; text-decoration-color: #000000; font-weight: bold\">1.0</span><span style=\"color: #000000; text-decoration-color: #000000\">.</span><span style=\"color: #000000; text-decoration-color: #000000; font-weight: bold\">1</span><span style=\"color: #000000; text-decoration-color: #000000\"> in </span>\n",
       "<span style=\"color: #000000; text-decoration-color: #000000\">/home/exouser/cybershuttle/scratch/envs/641aaa5d/lib/python3.10/site-packages </span><span style=\"color: #000000; text-decoration-color: #000000; font-weight: bold\">(</span><span style=\"color: #000000; text-decoration-color: #000000\">from tensorboard-&gt;</span><span style=\"color: #000000; text-decoration-color: #000000\">mattertune</span><span style=\"color: #000000; text-decoration-color: #000000\">==</span><span style=\"color: #000000; text-decoration-color: #000000; font-weight: bold\">0.1</span><span style=\"color: #000000; text-decoration-color: #000000\">.</span><span style=\"color: #000000; text-decoration-color: #000000; font-weight: bold\">0</span><span style=\"color: #000000; text-decoration-color: #000000; font-weight: bold\">)</span>\n",
       "<span style=\"color: #000000; text-decoration-color: #000000; font-weight: bold\">(</span><span style=\"color: #000000; text-decoration-color: #000000; font-weight: bold\">3.1</span><span style=\"color: #000000; text-decoration-color: #000000\">.</span><span style=\"color: #000000; text-decoration-color: #000000; font-weight: bold\">3</span><span style=\"color: #000000; text-decoration-color: #000000; font-weight: bold\">)</span>\n",
       "<span style=\"color: #000000; text-decoration-color: #000000\">Requirement already satisfied: click!=</span><span style=\"color: #000000; text-decoration-color: #000000; font-weight: bold\">8.0</span><span style=\"color: #000000; text-decoration-color: #000000\">.</span><span style=\"color: #000000; text-decoration-color: #000000; font-weight: bold\">0</span><span style=\"color: #000000; text-decoration-color: #000000\">,&gt;=</span><span style=\"color: #000000; text-decoration-color: #000000; font-weight: bold\">7.1</span><span style=\"color: #000000; text-decoration-color: #000000\"> in </span>\n",
       "<span style=\"color: #000000; text-decoration-color: #000000\">/home/exouser/cybershuttle/scratch/envs/641aaa5d/lib/python3.10/site-packages </span><span style=\"color: #000000; text-decoration-color: #000000; font-weight: bold\">(</span><span style=\"color: #000000; text-decoration-color: #000000\">from wandb-&gt;</span><span style=\"color: #000000; text-decoration-color: #000000\">mattertune</span><span style=\"color: #000000; text-decoration-color: #000000\">==</span><span style=\"color: #000000; text-decoration-color: #000000; font-weight: bold\">0.1</span><span style=\"color: #000000; text-decoration-color: #000000\">.</span><span style=\"color: #000000; text-decoration-color: #000000; font-weight: bold\">0</span><span style=\"color: #000000; text-decoration-color: #000000; font-weight: bold\">)</span><span style=\"color: #000000; text-decoration-color: #000000\"> </span>\n",
       "<span style=\"color: #000000; text-decoration-color: #000000; font-weight: bold\">(</span><span style=\"color: #000000; text-decoration-color: #000000; font-weight: bold\">8.1</span><span style=\"color: #000000; text-decoration-color: #000000\">.</span><span style=\"color: #000000; text-decoration-color: #000000; font-weight: bold\">8</span><span style=\"color: #000000; text-decoration-color: #000000; font-weight: bold\">)</span>\n",
       "<span style=\"color: #000000; text-decoration-color: #000000\">Requirement already satisfied: docker-pycreds&gt;=</span><span style=\"color: #000000; text-decoration-color: #000000; font-weight: bold\">0.4</span><span style=\"color: #000000; text-decoration-color: #000000\">.</span><span style=\"color: #000000; text-decoration-color: #000000; font-weight: bold\">0</span><span style=\"color: #000000; text-decoration-color: #000000\"> in </span>\n",
       "<span style=\"color: #000000; text-decoration-color: #000000\">/home/exouser/cybershuttle/scratch/envs/641aaa5d/lib/python3.10/site-packages </span><span style=\"color: #000000; text-decoration-color: #000000; font-weight: bold\">(</span><span style=\"color: #000000; text-decoration-color: #000000\">from wandb-&gt;</span><span style=\"color: #000000; text-decoration-color: #000000\">mattertune</span><span style=\"color: #000000; text-decoration-color: #000000\">==</span><span style=\"color: #000000; text-decoration-color: #000000; font-weight: bold\">0.1</span><span style=\"color: #000000; text-decoration-color: #000000\">.</span><span style=\"color: #000000; text-decoration-color: #000000; font-weight: bold\">0</span><span style=\"color: #000000; text-decoration-color: #000000; font-weight: bold\">)</span><span style=\"color: #000000; text-decoration-color: #000000\"> </span>\n",
       "<span style=\"color: #000000; text-decoration-color: #000000; font-weight: bold\">(</span><span style=\"color: #000000; text-decoration-color: #000000; font-weight: bold\">0.4</span><span style=\"color: #000000; text-decoration-color: #000000\">.</span><span style=\"color: #000000; text-decoration-color: #000000; font-weight: bold\">0</span><span style=\"color: #000000; text-decoration-color: #000000; font-weight: bold\">)</span>\n",
       "<span style=\"color: #000000; text-decoration-color: #000000\">Requirement already satisfied: gitpython!=</span><span style=\"color: #000000; text-decoration-color: #000000; font-weight: bold\">3.1</span><span style=\"color: #000000; text-decoration-color: #000000\">.</span><span style=\"color: #000000; text-decoration-color: #000000; font-weight: bold\">29</span><span style=\"color: #000000; text-decoration-color: #000000\">,&gt;=</span><span style=\"color: #000000; text-decoration-color: #000000; font-weight: bold\">1.0</span><span style=\"color: #000000; text-decoration-color: #000000\">.</span><span style=\"color: #000000; text-decoration-color: #000000; font-weight: bold\">0</span><span style=\"color: #000000; text-decoration-color: #000000\"> in </span>\n",
       "<span style=\"color: #000000; text-decoration-color: #000000\">/home/exouser/cybershuttle/scratch/envs/641aaa5d/lib/python3.10/site-packages </span><span style=\"color: #000000; text-decoration-color: #000000; font-weight: bold\">(</span><span style=\"color: #000000; text-decoration-color: #000000\">from wandb-&gt;</span><span style=\"color: #000000; text-decoration-color: #000000\">mattertune</span><span style=\"color: #000000; text-decoration-color: #000000\">==</span><span style=\"color: #000000; text-decoration-color: #000000; font-weight: bold\">0.1</span><span style=\"color: #000000; text-decoration-color: #000000\">.</span><span style=\"color: #000000; text-decoration-color: #000000; font-weight: bold\">0</span><span style=\"color: #000000; text-decoration-color: #000000; font-weight: bold\">)</span><span style=\"color: #000000; text-decoration-color: #000000\"> </span>\n",
       "<span style=\"color: #000000; text-decoration-color: #000000; font-weight: bold\">(</span><span style=\"color: #000000; text-decoration-color: #000000; font-weight: bold\">3.1</span><span style=\"color: #000000; text-decoration-color: #000000\">.</span><span style=\"color: #000000; text-decoration-color: #000000; font-weight: bold\">44</span><span style=\"color: #000000; text-decoration-color: #000000; font-weight: bold\">)</span>\n",
       "<span style=\"color: #000000; text-decoration-color: #000000\">Requirement already satisfied: platformdirs in </span>\n",
       "<span style=\"color: #000000; text-decoration-color: #000000\">/home/exouser/cybershuttle/scratch/envs/641aaa5d/lib/python3.10/site-packages </span><span style=\"color: #000000; text-decoration-color: #000000; font-weight: bold\">(</span><span style=\"color: #000000; text-decoration-color: #000000\">from wandb-&gt;</span><span style=\"color: #000000; text-decoration-color: #000000\">mattertune</span><span style=\"color: #000000; text-decoration-color: #000000\">==</span><span style=\"color: #000000; text-decoration-color: #000000; font-weight: bold\">0.1</span><span style=\"color: #000000; text-decoration-color: #000000\">.</span><span style=\"color: #000000; text-decoration-color: #000000; font-weight: bold\">0</span><span style=\"color: #000000; text-decoration-color: #000000; font-weight: bold\">)</span><span style=\"color: #000000; text-decoration-color: #000000\"> </span>\n",
       "<span style=\"color: #000000; text-decoration-color: #000000; font-weight: bold\">(</span><span style=\"color: #000000; text-decoration-color: #000000; font-weight: bold\">4.3</span><span style=\"color: #000000; text-decoration-color: #000000\">.</span><span style=\"color: #000000; text-decoration-color: #000000; font-weight: bold\">7</span><span style=\"color: #000000; text-decoration-color: #000000; font-weight: bold\">)</span>\n",
       "<span style=\"color: #000000; text-decoration-color: #000000\">Requirement already satisfied: psutil&gt;=</span><span style=\"color: #000000; text-decoration-color: #000000; font-weight: bold\">5.0</span><span style=\"color: #000000; text-decoration-color: #000000\">.</span><span style=\"color: #000000; text-decoration-color: #000000; font-weight: bold\">0</span><span style=\"color: #000000; text-decoration-color: #000000\"> in </span>\n",
       "<span style=\"color: #000000; text-decoration-color: #000000\">/home/exouser/cybershuttle/scratch/envs/641aaa5d/lib/python3.10/site-packages </span><span style=\"color: #000000; text-decoration-color: #000000; font-weight: bold\">(</span><span style=\"color: #000000; text-decoration-color: #000000\">from wandb-&gt;</span><span style=\"color: #000000; text-decoration-color: #000000\">mattertune</span><span style=\"color: #000000; text-decoration-color: #000000\">==</span><span style=\"color: #000000; text-decoration-color: #000000; font-weight: bold\">0.1</span><span style=\"color: #000000; text-decoration-color: #000000\">.</span><span style=\"color: #000000; text-decoration-color: #000000; font-weight: bold\">0</span><span style=\"color: #000000; text-decoration-color: #000000; font-weight: bold\">)</span><span style=\"color: #000000; text-decoration-color: #000000\"> </span>\n",
       "<span style=\"color: #000000; text-decoration-color: #000000; font-weight: bold\">(</span><span style=\"color: #000000; text-decoration-color: #000000; font-weight: bold\">7.0</span><span style=\"color: #000000; text-decoration-color: #000000\">.</span><span style=\"color: #000000; text-decoration-color: #000000; font-weight: bold\">0</span><span style=\"color: #000000; text-decoration-color: #000000; font-weight: bold\">)</span>\n",
       "<span style=\"color: #000000; text-decoration-color: #000000\">Requirement already satisfied: sentry-sdk&gt;=</span><span style=\"color: #000000; text-decoration-color: #000000; font-weight: bold\">2.0</span><span style=\"color: #000000; text-decoration-color: #000000\">.</span><span style=\"color: #000000; text-decoration-color: #000000; font-weight: bold\">0</span><span style=\"color: #000000; text-decoration-color: #000000\"> in </span>\n",
       "<span style=\"color: #000000; text-decoration-color: #000000\">/home/exouser/cybershuttle/scratch/envs/641aaa5d/lib/python3.10/site-packages </span><span style=\"color: #000000; text-decoration-color: #000000; font-weight: bold\">(</span><span style=\"color: #000000; text-decoration-color: #000000\">from wandb-&gt;</span><span style=\"color: #000000; text-decoration-color: #000000\">mattertune</span><span style=\"color: #000000; text-decoration-color: #000000\">==</span><span style=\"color: #000000; text-decoration-color: #000000; font-weight: bold\">0.1</span><span style=\"color: #000000; text-decoration-color: #000000\">.</span><span style=\"color: #000000; text-decoration-color: #000000; font-weight: bold\">0</span><span style=\"color: #000000; text-decoration-color: #000000; font-weight: bold\">)</span><span style=\"color: #000000; text-decoration-color: #000000\"> </span>\n",
       "<span style=\"color: #000000; text-decoration-color: #000000; font-weight: bold\">(</span><span style=\"color: #000000; text-decoration-color: #000000; font-weight: bold\">2.27</span><span style=\"color: #000000; text-decoration-color: #000000\">.</span><span style=\"color: #000000; text-decoration-color: #000000; font-weight: bold\">0</span><span style=\"color: #000000; text-decoration-color: #000000; font-weight: bold\">)</span>\n",
       "<span style=\"color: #000000; text-decoration-color: #000000\">Requirement already satisfied: setproctitle in </span>\n",
       "<span style=\"color: #000000; text-decoration-color: #000000\">/home/exouser/cybershuttle/scratch/envs/641aaa5d/lib/python3.10/site-packages </span><span style=\"color: #000000; text-decoration-color: #000000; font-weight: bold\">(</span><span style=\"color: #000000; text-decoration-color: #000000\">from wandb-&gt;</span><span style=\"color: #000000; text-decoration-color: #000000\">mattertune</span><span style=\"color: #000000; text-decoration-color: #000000\">==</span><span style=\"color: #000000; text-decoration-color: #000000; font-weight: bold\">0.1</span><span style=\"color: #000000; text-decoration-color: #000000\">.</span><span style=\"color: #000000; text-decoration-color: #000000; font-weight: bold\">0</span><span style=\"color: #000000; text-decoration-color: #000000; font-weight: bold\">)</span><span style=\"color: #000000; text-decoration-color: #000000\"> </span>\n",
       "<span style=\"color: #000000; text-decoration-color: #000000; font-weight: bold\">(</span><span style=\"color: #000000; text-decoration-color: #000000; font-weight: bold\">1.3</span><span style=\"color: #000000; text-decoration-color: #000000\">.</span><span style=\"color: #000000; text-decoration-color: #000000; font-weight: bold\">6</span><span style=\"color: #000000; text-decoration-color: #000000; font-weight: bold\">)</span>\n",
       "<span style=\"color: #000000; text-decoration-color: #000000\">Requirement already satisfied: gitdb</span><span style=\"color: #000000; text-decoration-color: #000000; font-weight: bold\">&lt;</span><span style=\"color: #000000; text-decoration-color: #000000; font-weight: bold\">5</span><span style=\"color: #000000; text-decoration-color: #000000\">,&gt;=</span><span style=\"color: #000000; text-decoration-color: #000000; font-weight: bold\">4.0</span><span style=\"color: #000000; text-decoration-color: #000000\">.</span><span style=\"color: #000000; text-decoration-color: #000000; font-weight: bold\">1</span><span style=\"color: #000000; text-decoration-color: #000000\"> in </span>\n",
       "<span style=\"color: #000000; text-decoration-color: #000000\">/home/exouser/cybershuttle/scratch/envs/641aaa5d/lib/python3.10/site-packages </span><span style=\"color: #000000; text-decoration-color: #000000; font-weight: bold\">(</span><span style=\"color: #000000; text-decoration-color: #000000\">from </span>\n",
       "<span style=\"color: #000000; text-decoration-color: #000000\">gitpython!=</span><span style=\"color: #000000; text-decoration-color: #000000; font-weight: bold\">3.1</span><span style=\"color: #000000; text-decoration-color: #000000\">.</span><span style=\"color: #000000; text-decoration-color: #000000; font-weight: bold\">29</span><span style=\"color: #000000; text-decoration-color: #000000\">,&gt;=</span><span style=\"color: #000000; text-decoration-color: #000000; font-weight: bold\">1.0</span><span style=\"color: #000000; text-decoration-color: #000000\">.</span><span style=\"color: #000000; text-decoration-color: #000000; font-weight: bold\">0</span><span style=\"color: #000000; text-decoration-color: #000000\">-&gt;wandb-&gt;</span><span style=\"color: #000000; text-decoration-color: #000000\">mattertune</span><span style=\"color: #000000; text-decoration-color: #000000\">==</span><span style=\"color: #000000; text-decoration-color: #000000; font-weight: bold\">0.1</span><span style=\"color: #000000; text-decoration-color: #000000\">.</span><span style=\"color: #000000; text-decoration-color: #000000; font-weight: bold\">0</span><span style=\"color: #000000; text-decoration-color: #000000; font-weight: bold\">)</span><span style=\"color: #000000; text-decoration-color: #000000\"> </span><span style=\"color: #000000; text-decoration-color: #000000; font-weight: bold\">(</span><span style=\"color: #000000; text-decoration-color: #000000; font-weight: bold\">4.0</span><span style=\"color: #000000; text-decoration-color: #000000\">.</span><span style=\"color: #000000; text-decoration-color: #000000; font-weight: bold\">12</span><span style=\"color: #000000; text-decoration-color: #000000; font-weight: bold\">)</span>\n",
       "<span style=\"color: #000000; text-decoration-color: #000000\">Requirement already satisfied: smmap&lt;</span><span style=\"color: #000000; text-decoration-color: #000000; font-weight: bold\">6</span><span style=\"color: #000000; text-decoration-color: #000000\">,&gt;=</span><span style=\"color: #000000; text-decoration-color: #000000; font-weight: bold\">3.0</span><span style=\"color: #000000; text-decoration-color: #000000\">.</span><span style=\"color: #000000; text-decoration-color: #000000; font-weight: bold\">1</span><span style=\"color: #000000; text-decoration-color: #000000\"> in </span>\n",
       "<span style=\"color: #000000; text-decoration-color: #000000\">/home/exouser/cybershuttle/scratch/envs/641aaa5d/lib/python3.10/site-packages </span><span style=\"color: #000000; text-decoration-color: #000000; font-weight: bold\">(</span><span style=\"color: #000000; text-decoration-color: #000000\">from </span>\n",
       "<span style=\"color: #000000; text-decoration-color: #000000\">gitdb&lt;</span><span style=\"color: #000000; text-decoration-color: #000000; font-weight: bold\">5</span><span style=\"color: #000000; text-decoration-color: #000000\">,&gt;=</span><span style=\"color: #000000; text-decoration-color: #000000; font-weight: bold\">4.0</span><span style=\"color: #000000; text-decoration-color: #000000\">.</span><span style=\"color: #000000; text-decoration-color: #000000; font-weight: bold\">1</span><span style=\"color: #000000; text-decoration-color: #000000\">-&gt;gitpython!=</span><span style=\"color: #000000; text-decoration-color: #000000; font-weight: bold\">3.1</span><span style=\"color: #000000; text-decoration-color: #000000\">.</span><span style=\"color: #000000; text-decoration-color: #000000; font-weight: bold\">29</span><span style=\"color: #000000; text-decoration-color: #000000\">,&gt;=</span><span style=\"color: #000000; text-decoration-color: #000000; font-weight: bold\">1.0</span><span style=\"color: #000000; text-decoration-color: #000000\">.</span><span style=\"color: #000000; text-decoration-color: #000000; font-weight: bold\">0</span><span style=\"color: #000000; text-decoration-color: #000000\">-&gt;wandb-</span><span style=\"color: #000000; text-decoration-color: #000000; font-weight: bold\">&gt;</span><span style=\"color: #000000; text-decoration-color: #000000\">mattertune</span><span style=\"color: #000000; text-decoration-color: #000000\">==</span><span style=\"color: #000000; text-decoration-color: #000000; font-weight: bold\">0.1</span><span style=\"color: #000000; text-decoration-color: #000000\">.</span><span style=\"color: #000000; text-decoration-color: #000000; font-weight: bold\">0</span><span style=\"color: #000000; text-decoration-color: #000000; font-weight: bold\">)</span><span style=\"color: #000000; text-decoration-color: #000000\"> </span><span style=\"color: #000000; text-decoration-color: #000000; font-weight: bold\">(</span><span style=\"color: #000000; text-decoration-color: #000000; font-weight: bold\">5.0</span><span style=\"color: #000000; text-decoration-color: #000000\">.</span><span style=\"color: #000000; text-decoration-color: #000000; font-weight: bold\">2</span><span style=\"color: #000000; text-decoration-color: #000000; font-weight: bold\">)</span>\n",
       "\n",
       "====<span style=\"font-weight: bold\">[</span>STDERR<span style=\"font-weight: bold\">]</span>====\n",
       "<span style=\"color: #800000; text-decoration-color: #800000; font-weight: bold\">2025</span><span style=\"color: #800000; text-decoration-color: #800000\">/</span><span style=\"color: #800000; text-decoration-color: #800000; font-weight: bold\">05</span><span style=\"color: #800000; text-decoration-color: #800000\">/</span><span style=\"color: #800000; text-decoration-color: #800000; font-weight: bold\">07</span><span style=\"color: #800000; text-decoration-color: #800000\"> </span><span style=\"color: #800000; text-decoration-color: #800000; font-weight: bold\">05:40:18</span><span style=\"color: #800000; text-decoration-color: #800000\">  </span><span style=\"color: #800000; text-decoration-color: #800000; font-weight: bold\">main()</span><span style=\"color: #800000; text-decoration-color: #800000\"> --</span><span style=\"color: #800000; text-decoration-color: #800000\">environ</span><span style=\"color: #800000; text-decoration-color: #800000\">=</span><span style=\"color: #800000; text-decoration-color: #800000\">641aaa5d</span>\n",
       "<span style=\"color: #800000; text-decoration-color: #800000; font-weight: bold\">2025</span><span style=\"color: #800000; text-decoration-color: #800000\">/</span><span style=\"color: #800000; text-decoration-color: #800000; font-weight: bold\">05</span><span style=\"color: #800000; text-decoration-color: #800000\">/</span><span style=\"color: #800000; text-decoration-color: #800000; font-weight: bold\">07</span><span style=\"color: #800000; text-decoration-color: #800000\"> </span><span style=\"color: #800000; text-decoration-color: #800000; font-weight: bold\">05:40:18</span><span style=\"color: #800000; text-decoration-color: #800000\">  </span><span style=\"color: #800000; text-decoration-color: #800000; font-weight: bold\">main()</span><span style=\"color: #800000; text-decoration-color: #800000\"> </span>\n",
       "<span style=\"color: #800000; text-decoration-color: #800000\">--</span><span style=\"color: #800000; text-decoration-color: #800000\">lib</span><span style=\"color: #800000; text-decoration-color: #800000\">=</span><span style=\"color: #800000; text-decoration-color: #800000\">python</span><span style=\"color: #800000; text-decoration-color: #800000\">=</span><span style=\"color: #800000; text-decoration-color: #800000; font-weight: bold\">3.10</span><span style=\"color: #800000; text-decoration-color: #800000\">,pip,pytorch,pytorch-lightning,ase,scikit-learn,torchmetrics,numpy,wandb,tensorboard,tensorboardX,</span>\n",
       "<span style=\"color: #800000; text-decoration-color: #800000\">tqdm,rich,mattersim,fairchem-core</span>\n",
       "<span style=\"color: #800000; text-decoration-color: #800000; font-weight: bold\">2025</span><span style=\"color: #800000; text-decoration-color: #800000\">/</span><span style=\"color: #800000; text-decoration-color: #800000; font-weight: bold\">05</span><span style=\"color: #800000; text-decoration-color: #800000\">/</span><span style=\"color: #800000; text-decoration-color: #800000; font-weight: bold\">07</span><span style=\"color: #800000; text-decoration-color: #800000\"> </span><span style=\"color: #800000; text-decoration-color: #800000; font-weight: bold\">05:40:18</span><span style=\"color: #800000; text-decoration-color: #800000\">  </span><span style=\"color: #800000; text-decoration-color: #800000; font-weight: bold\">main()</span><span style=\"color: #800000; text-decoration-color: #800000\"> --</span><span style=\"color: #800000; text-decoration-color: #800000\">pip</span><span style=\"color: #800000; text-decoration-color: #800000\">=</span><span style=\"color: #800000; text-decoration-color: #800000\">git</span><span style=\"color: #800000; text-decoration-color: #800000\">+</span><span style=\"color: #800000; text-decoration-color: #800000; text-decoration: underline\">https://github.com/cyber-shuttle/mattertune.git</span>\n",
       "<span style=\"color: #800000; text-decoration-color: #800000; font-weight: bold\">2025</span><span style=\"color: #800000; text-decoration-color: #800000\">/</span><span style=\"color: #800000; text-decoration-color: #800000; font-weight: bold\">05</span><span style=\"color: #800000; text-decoration-color: #800000\">/</span><span style=\"color: #800000; text-decoration-color: #800000; font-weight: bold\">07</span><span style=\"color: #800000; text-decoration-color: #800000\"> </span><span style=\"color: #800000; text-decoration-color: #800000; font-weight: bold\">05:40:18</span><span style=\"color: #800000; text-decoration-color: #800000\">  </span><span style=\"color: #800000; text-decoration-color: #800000; font-weight: bold\">main()</span><span style=\"color: #800000; text-decoration-color: #800000\"> Connected to api.gateway.cybershuttle.org:</span><span style=\"color: #800000; text-decoration-color: #800000; font-weight: bold\">19900</span>\n",
       "<span style=\"color: #800000; text-decoration-color: #800000; font-weight: bold\">2025</span><span style=\"color: #800000; text-decoration-color: #800000\">/</span><span style=\"color: #800000; text-decoration-color: #800000; font-weight: bold\">05</span><span style=\"color: #800000; text-decoration-color: #800000\">/</span><span style=\"color: #800000; text-decoration-color: #800000; font-weight: bold\">07</span><span style=\"color: #800000; text-decoration-color: #800000\"> </span><span style=\"color: #800000; text-decoration-color: #800000; font-weight: bold\">05:40:18</span><span style=\"color: #800000; text-decoration-color: #800000\">  </span><span style=\"color: #800000; text-decoration-color: #800000; font-weight: bold\">main()</span><span style=\"color: #800000; text-decoration-color: #800000\"> Created stream...</span>\n",
       "<span style=\"color: #800000; text-decoration-color: #800000; font-weight: bold\">2025</span><span style=\"color: #800000; text-decoration-color: #800000\">/</span><span style=\"color: #800000; text-decoration-color: #800000; font-weight: bold\">05</span><span style=\"color: #800000; text-decoration-color: #800000\">/</span><span style=\"color: #800000; text-decoration-color: #800000; font-weight: bold\">07</span><span style=\"color: #800000; text-decoration-color: #800000\"> </span><span style=\"color: #800000; text-decoration-color: #800000; font-weight: bold\">05:40:18</span><span style=\"color: #800000; text-decoration-color: #800000\">  </span><span style=\"color: #800000; text-decoration-color: #800000; font-weight: bold\">main()</span><span style=\"color: #800000; text-decoration-color: #800000\"> Using environment: 641aaa5d</span>\n",
       "<span style=\"color: #800000; text-decoration-color: #800000; font-weight: bold\">2025</span><span style=\"color: #800000; text-decoration-color: #800000\">/</span><span style=\"color: #800000; text-decoration-color: #800000; font-weight: bold\">05</span><span style=\"color: #800000; text-decoration-color: #800000\">/</span><span style=\"color: #800000; text-decoration-color: #800000; font-weight: bold\">07</span><span style=\"color: #800000; text-decoration-color: #800000\"> </span><span style=\"color: #800000; text-decoration-color: #800000; font-weight: bold\">05:40:18</span><span style=\"color: #800000; text-decoration-color: #800000\">  </span><span style=\"color: #800000; text-decoration-color: #800000; font-weight: bold\">main()</span><span style=\"color: #800000; text-decoration-color: #800000\"> Installing --lib: </span>\n",
       "<span style=\"color: #800000; text-decoration-color: #800000; font-weight: bold\">2025</span><span style=\"color: #800000; text-decoration-color: #800000\">/</span><span style=\"color: #800000; text-decoration-color: #800000; font-weight: bold\">05</span><span style=\"color: #800000; text-decoration-color: #800000\">/</span><span style=\"color: #800000; text-decoration-color: #800000; font-weight: bold\">07</span><span style=\"color: #800000; text-decoration-color: #800000\"> </span><span style=\"color: #800000; text-decoration-color: #800000; font-weight: bold\">05:40:39</span><span style=\"color: #800000; text-decoration-color: #800000\">  </span><span style=\"color: #800000; text-decoration-color: #800000; font-weight: bold\">main()</span><span style=\"color: #800000; text-decoration-color: #800000\"> Installed --lib: </span>\n",
       "<span style=\"color: #800000; text-decoration-color: #800000; font-weight: bold\">2025</span><span style=\"color: #800000; text-decoration-color: #800000\">/</span><span style=\"color: #800000; text-decoration-color: #800000; font-weight: bold\">05</span><span style=\"color: #800000; text-decoration-color: #800000\">/</span><span style=\"color: #800000; text-decoration-color: #800000; font-weight: bold\">07</span><span style=\"color: #800000; text-decoration-color: #800000\"> </span><span style=\"color: #800000; text-decoration-color: #800000; font-weight: bold\">05:40:39</span><span style=\"color: #800000; text-decoration-color: #800000\">  </span><span style=\"color: #800000; text-decoration-color: #800000; font-weight: bold\">main()</span><span style=\"color: #800000; text-decoration-color: #800000\"> Installing --pip: </span>\n",
       "<span style=\"color: #800000; text-decoration-color: #800000\">  Running command git clone --</span><span style=\"color: #800000; text-decoration-color: #800000\">filter</span><span style=\"color: #800000; text-decoration-color: #800000\">=</span><span style=\"color: #800000; text-decoration-color: #800000\">blob</span><span style=\"color: #800000; text-decoration-color: #800000\">:none --quiet </span><span style=\"color: #800000; text-decoration-color: #800000; text-decoration: underline\">https://github.com/cyber-shuttle/mattertune.git</span><span style=\"color: #800000; text-decoration-color: #800000\"> </span>\n",
       "<span style=\"color: #800000; text-decoration-color: #800000\">/home/exouser/cybershuttle/scratch/tmp/pip-req-build-9h0_ckrc</span>\n",
       "</pre>\n"
      ],
      "text/plain": [
       "Connecting \u001b[33mto\u001b[0m=\u001b[35mhpc_gpu\u001b[0m\u001b[33m...\u001b[0m \u001b[33mstatus\u001b[0m=\u001b[35mCONNECTED\u001b[0m\n",
       "\n",
       "====\u001b[1m[\u001b[0mSTDOUT\u001b[1m]\u001b[0m====\n",
       "\u001b[30mRequirement already satisfied: werkzeug>=\u001b[0m\u001b[1;30m1.0\u001b[0m\u001b[30m.\u001b[0m\u001b[1;30m1\u001b[0m\u001b[30m in \u001b[0m\n",
       "\u001b[30m/home/exouser/cybershuttle/scratch/envs/641aaa5d/lib/python3.10/\u001b[0m\u001b[30msite-packages\u001b[0m\u001b[30m \u001b[0m\u001b[1;30m(\u001b[0m\u001b[30mfrom tensorboard->\u001b[0m\u001b[30mmattertune\u001b[0m\u001b[30m==\u001b[0m\u001b[1;30m0.1\u001b[0m\u001b[30m.\u001b[0m\u001b[1;30m0\u001b[0m\u001b[1;30m)\u001b[0m\n",
       "\u001b[1;30m(\u001b[0m\u001b[1;30m3.1\u001b[0m\u001b[30m.\u001b[0m\u001b[1;30m3\u001b[0m\u001b[1;30m)\u001b[0m\n",
       "\u001b[30mRequirement already satisfied: click!=\u001b[0m\u001b[1;30m8.0\u001b[0m\u001b[30m.\u001b[0m\u001b[1;30m0\u001b[0m\u001b[30m,>=\u001b[0m\u001b[1;30m7.1\u001b[0m\u001b[30m in \u001b[0m\n",
       "\u001b[30m/home/exouser/cybershuttle/scratch/envs/641aaa5d/lib/python3.10/\u001b[0m\u001b[30msite-packages\u001b[0m\u001b[30m \u001b[0m\u001b[1;30m(\u001b[0m\u001b[30mfrom wandb->\u001b[0m\u001b[30mmattertune\u001b[0m\u001b[30m==\u001b[0m\u001b[1;30m0.1\u001b[0m\u001b[30m.\u001b[0m\u001b[1;30m0\u001b[0m\u001b[1;30m)\u001b[0m\u001b[30m \u001b[0m\n",
       "\u001b[1;30m(\u001b[0m\u001b[1;30m8.1\u001b[0m\u001b[30m.\u001b[0m\u001b[1;30m8\u001b[0m\u001b[1;30m)\u001b[0m\n",
       "\u001b[30mRequirement already satisfied: docker-pycreds>=\u001b[0m\u001b[1;30m0.4\u001b[0m\u001b[30m.\u001b[0m\u001b[1;30m0\u001b[0m\u001b[30m in \u001b[0m\n",
       "\u001b[30m/home/exouser/cybershuttle/scratch/envs/641aaa5d/lib/python3.10/\u001b[0m\u001b[30msite-packages\u001b[0m\u001b[30m \u001b[0m\u001b[1;30m(\u001b[0m\u001b[30mfrom wandb->\u001b[0m\u001b[30mmattertune\u001b[0m\u001b[30m==\u001b[0m\u001b[1;30m0.1\u001b[0m\u001b[30m.\u001b[0m\u001b[1;30m0\u001b[0m\u001b[1;30m)\u001b[0m\u001b[30m \u001b[0m\n",
       "\u001b[1;30m(\u001b[0m\u001b[1;30m0.4\u001b[0m\u001b[30m.\u001b[0m\u001b[1;30m0\u001b[0m\u001b[1;30m)\u001b[0m\n",
       "\u001b[30mRequirement already satisfied: gitpython!=\u001b[0m\u001b[1;30m3.1\u001b[0m\u001b[30m.\u001b[0m\u001b[1;30m29\u001b[0m\u001b[30m,>=\u001b[0m\u001b[1;30m1.0\u001b[0m\u001b[30m.\u001b[0m\u001b[1;30m0\u001b[0m\u001b[30m in \u001b[0m\n",
       "\u001b[30m/home/exouser/cybershuttle/scratch/envs/641aaa5d/lib/python3.10/\u001b[0m\u001b[30msite-packages\u001b[0m\u001b[30m \u001b[0m\u001b[1;30m(\u001b[0m\u001b[30mfrom wandb->\u001b[0m\u001b[30mmattertune\u001b[0m\u001b[30m==\u001b[0m\u001b[1;30m0.1\u001b[0m\u001b[30m.\u001b[0m\u001b[1;30m0\u001b[0m\u001b[1;30m)\u001b[0m\u001b[30m \u001b[0m\n",
       "\u001b[1;30m(\u001b[0m\u001b[1;30m3.1\u001b[0m\u001b[30m.\u001b[0m\u001b[1;30m44\u001b[0m\u001b[1;30m)\u001b[0m\n",
       "\u001b[30mRequirement already satisfied: platformdirs in \u001b[0m\n",
       "\u001b[30m/home/exouser/cybershuttle/scratch/envs/641aaa5d/lib/python3.10/\u001b[0m\u001b[30msite-packages\u001b[0m\u001b[30m \u001b[0m\u001b[1;30m(\u001b[0m\u001b[30mfrom wandb->\u001b[0m\u001b[30mmattertune\u001b[0m\u001b[30m==\u001b[0m\u001b[1;30m0.1\u001b[0m\u001b[30m.\u001b[0m\u001b[1;30m0\u001b[0m\u001b[1;30m)\u001b[0m\u001b[30m \u001b[0m\n",
       "\u001b[1;30m(\u001b[0m\u001b[1;30m4.3\u001b[0m\u001b[30m.\u001b[0m\u001b[1;30m7\u001b[0m\u001b[1;30m)\u001b[0m\n",
       "\u001b[30mRequirement already satisfied: psutil>=\u001b[0m\u001b[1;30m5.0\u001b[0m\u001b[30m.\u001b[0m\u001b[1;30m0\u001b[0m\u001b[30m in \u001b[0m\n",
       "\u001b[30m/home/exouser/cybershuttle/scratch/envs/641aaa5d/lib/python3.10/\u001b[0m\u001b[30msite-packages\u001b[0m\u001b[30m \u001b[0m\u001b[1;30m(\u001b[0m\u001b[30mfrom wandb->\u001b[0m\u001b[30mmattertune\u001b[0m\u001b[30m==\u001b[0m\u001b[1;30m0.1\u001b[0m\u001b[30m.\u001b[0m\u001b[1;30m0\u001b[0m\u001b[1;30m)\u001b[0m\u001b[30m \u001b[0m\n",
       "\u001b[1;30m(\u001b[0m\u001b[1;30m7.0\u001b[0m\u001b[30m.\u001b[0m\u001b[1;30m0\u001b[0m\u001b[1;30m)\u001b[0m\n",
       "\u001b[30mRequirement already satisfied: sentry-sdk>=\u001b[0m\u001b[1;30m2.0\u001b[0m\u001b[30m.\u001b[0m\u001b[1;30m0\u001b[0m\u001b[30m in \u001b[0m\n",
       "\u001b[30m/home/exouser/cybershuttle/scratch/envs/641aaa5d/lib/python3.10/\u001b[0m\u001b[30msite-packages\u001b[0m\u001b[30m \u001b[0m\u001b[1;30m(\u001b[0m\u001b[30mfrom wandb->\u001b[0m\u001b[30mmattertune\u001b[0m\u001b[30m==\u001b[0m\u001b[1;30m0.1\u001b[0m\u001b[30m.\u001b[0m\u001b[1;30m0\u001b[0m\u001b[1;30m)\u001b[0m\u001b[30m \u001b[0m\n",
       "\u001b[1;30m(\u001b[0m\u001b[1;30m2.27\u001b[0m\u001b[30m.\u001b[0m\u001b[1;30m0\u001b[0m\u001b[1;30m)\u001b[0m\n",
       "\u001b[30mRequirement already satisfied: setproctitle in \u001b[0m\n",
       "\u001b[30m/home/exouser/cybershuttle/scratch/envs/641aaa5d/lib/python3.10/\u001b[0m\u001b[30msite-packages\u001b[0m\u001b[30m \u001b[0m\u001b[1;30m(\u001b[0m\u001b[30mfrom wandb->\u001b[0m\u001b[30mmattertune\u001b[0m\u001b[30m==\u001b[0m\u001b[1;30m0.1\u001b[0m\u001b[30m.\u001b[0m\u001b[1;30m0\u001b[0m\u001b[1;30m)\u001b[0m\u001b[30m \u001b[0m\n",
       "\u001b[1;30m(\u001b[0m\u001b[1;30m1.3\u001b[0m\u001b[30m.\u001b[0m\u001b[1;30m6\u001b[0m\u001b[1;30m)\u001b[0m\n",
       "\u001b[30mRequirement already satisfied: gitdb\u001b[0m\u001b[1;30m<\u001b[0m\u001b[1;30m5\u001b[0m\u001b[30m,>=\u001b[0m\u001b[1;30m4.0\u001b[0m\u001b[30m.\u001b[0m\u001b[1;30m1\u001b[0m\u001b[30m in \u001b[0m\n",
       "\u001b[30m/home/exouser/cybershuttle/scratch/envs/641aaa5d/lib/python3.10/\u001b[0m\u001b[30msite-packages\u001b[0m\u001b[30m \u001b[0m\u001b[1;30m(\u001b[0m\u001b[30mfrom \u001b[0m\n",
       "\u001b[30mgitpython!=\u001b[0m\u001b[1;30m3.1\u001b[0m\u001b[30m.\u001b[0m\u001b[1;30m29\u001b[0m\u001b[30m,>=\u001b[0m\u001b[1;30m1.0\u001b[0m\u001b[30m.\u001b[0m\u001b[1;30m0\u001b[0m\u001b[30m->wandb->\u001b[0m\u001b[30mmattertune\u001b[0m\u001b[30m==\u001b[0m\u001b[1;30m0.1\u001b[0m\u001b[30m.\u001b[0m\u001b[1;30m0\u001b[0m\u001b[1;30m)\u001b[0m\u001b[30m \u001b[0m\u001b[1;30m(\u001b[0m\u001b[1;30m4.0\u001b[0m\u001b[30m.\u001b[0m\u001b[1;30m12\u001b[0m\u001b[1;30m)\u001b[0m\n",
       "\u001b[30mRequirement already satisfied: smmap<\u001b[0m\u001b[1;30m6\u001b[0m\u001b[30m,>=\u001b[0m\u001b[1;30m3.0\u001b[0m\u001b[30m.\u001b[0m\u001b[1;30m1\u001b[0m\u001b[30m in \u001b[0m\n",
       "\u001b[30m/home/exouser/cybershuttle/scratch/envs/641aaa5d/lib/python3.10/\u001b[0m\u001b[30msite-packages\u001b[0m\u001b[30m \u001b[0m\u001b[1;30m(\u001b[0m\u001b[30mfrom \u001b[0m\n",
       "\u001b[30mgitdb<\u001b[0m\u001b[1;30m5\u001b[0m\u001b[30m,>=\u001b[0m\u001b[1;30m4.0\u001b[0m\u001b[30m.\u001b[0m\u001b[1;30m1\u001b[0m\u001b[30m->gitpython!=\u001b[0m\u001b[1;30m3.1\u001b[0m\u001b[30m.\u001b[0m\u001b[1;30m29\u001b[0m\u001b[30m,>=\u001b[0m\u001b[1;30m1.0\u001b[0m\u001b[30m.\u001b[0m\u001b[1;30m0\u001b[0m\u001b[30m->wandb-\u001b[0m\u001b[1;30m>\u001b[0m\u001b[30mmattertune\u001b[0m\u001b[30m==\u001b[0m\u001b[1;30m0.1\u001b[0m\u001b[30m.\u001b[0m\u001b[1;30m0\u001b[0m\u001b[1;30m)\u001b[0m\u001b[30m \u001b[0m\u001b[1;30m(\u001b[0m\u001b[1;30m5.0\u001b[0m\u001b[30m.\u001b[0m\u001b[1;30m2\u001b[0m\u001b[1;30m)\u001b[0m\n",
       "\n",
       "====\u001b[1m[\u001b[0mSTDERR\u001b[1m]\u001b[0m====\n",
       "\u001b[1;31m2025\u001b[0m\u001b[31m/\u001b[0m\u001b[1;31m05\u001b[0m\u001b[31m/\u001b[0m\u001b[1;31m07\u001b[0m\u001b[31m \u001b[0m\u001b[1;31m05:40:18\u001b[0m\u001b[31m \u001b[0m\u001b[31m \u001b[0m\u001b[1;31mmain\u001b[0m\u001b[1;31m(\u001b[0m\u001b[1;31m)\u001b[0m\u001b[31m --\u001b[0m\u001b[31menviron\u001b[0m\u001b[31m=\u001b[0m\u001b[31m641aaa5d\u001b[0m\n",
       "\u001b[1;31m2025\u001b[0m\u001b[31m/\u001b[0m\u001b[1;31m05\u001b[0m\u001b[31m/\u001b[0m\u001b[1;31m07\u001b[0m\u001b[31m \u001b[0m\u001b[1;31m05:40:18\u001b[0m\u001b[31m \u001b[0m\u001b[31m \u001b[0m\u001b[1;31mmain\u001b[0m\u001b[1;31m(\u001b[0m\u001b[1;31m)\u001b[0m\u001b[31m \u001b[0m\n",
       "\u001b[31m--\u001b[0m\u001b[31mlib\u001b[0m\u001b[31m=\u001b[0m\u001b[31mpython\u001b[0m\u001b[31m=\u001b[0m\u001b[1;31m3.10\u001b[0m\u001b[31m,pip,pytorch,pytorch-lightning,ase,scikit-learn,torchmetrics,numpy,wandb,tensorboard,tensorboardX,\u001b[0m\n",
       "\u001b[31mtqdm,rich,mattersim,fairchem-core\u001b[0m\n",
       "\u001b[1;31m2025\u001b[0m\u001b[31m/\u001b[0m\u001b[1;31m05\u001b[0m\u001b[31m/\u001b[0m\u001b[1;31m07\u001b[0m\u001b[31m \u001b[0m\u001b[1;31m05:40:18\u001b[0m\u001b[31m \u001b[0m\u001b[31m \u001b[0m\u001b[1;31mmain\u001b[0m\u001b[1;31m(\u001b[0m\u001b[1;31m)\u001b[0m\u001b[31m --\u001b[0m\u001b[31mpip\u001b[0m\u001b[31m=\u001b[0m\u001b[31mgit\u001b[0m\u001b[31m+\u001b[0m\u001b[4;31mhttps://github.com/cyber-shuttle/mattertune.git\u001b[0m\n",
       "\u001b[1;31m2025\u001b[0m\u001b[31m/\u001b[0m\u001b[1;31m05\u001b[0m\u001b[31m/\u001b[0m\u001b[1;31m07\u001b[0m\u001b[31m \u001b[0m\u001b[1;31m05:40:18\u001b[0m\u001b[31m \u001b[0m\u001b[31m \u001b[0m\u001b[1;31mmain\u001b[0m\u001b[1;31m(\u001b[0m\u001b[1;31m)\u001b[0m\u001b[31m Connected to api.gateway.cybershuttle.org:\u001b[0m\u001b[1;31m19900\u001b[0m\n",
       "\u001b[1;31m2025\u001b[0m\u001b[31m/\u001b[0m\u001b[1;31m05\u001b[0m\u001b[31m/\u001b[0m\u001b[1;31m07\u001b[0m\u001b[31m \u001b[0m\u001b[1;31m05:40:18\u001b[0m\u001b[31m \u001b[0m\u001b[31m \u001b[0m\u001b[1;31mmain\u001b[0m\u001b[1;31m(\u001b[0m\u001b[1;31m)\u001b[0m\u001b[31m Created stream\u001b[0m\u001b[31m...\u001b[0m\n",
       "\u001b[1;31m2025\u001b[0m\u001b[31m/\u001b[0m\u001b[1;31m05\u001b[0m\u001b[31m/\u001b[0m\u001b[1;31m07\u001b[0m\u001b[31m \u001b[0m\u001b[1;31m05:40:18\u001b[0m\u001b[31m \u001b[0m\u001b[31m \u001b[0m\u001b[1;31mmain\u001b[0m\u001b[1;31m(\u001b[0m\u001b[1;31m)\u001b[0m\u001b[31m Using environment: 641aaa5d\u001b[0m\n",
       "\u001b[1;31m2025\u001b[0m\u001b[31m/\u001b[0m\u001b[1;31m05\u001b[0m\u001b[31m/\u001b[0m\u001b[1;31m07\u001b[0m\u001b[31m \u001b[0m\u001b[1;31m05:40:18\u001b[0m\u001b[31m \u001b[0m\u001b[31m \u001b[0m\u001b[1;31mmain\u001b[0m\u001b[1;31m(\u001b[0m\u001b[1;31m)\u001b[0m\u001b[31m Installing --lib: \u001b[0m\n",
       "\u001b[1;31m2025\u001b[0m\u001b[31m/\u001b[0m\u001b[1;31m05\u001b[0m\u001b[31m/\u001b[0m\u001b[1;31m07\u001b[0m\u001b[31m \u001b[0m\u001b[1;31m05:40:39\u001b[0m\u001b[31m \u001b[0m\u001b[31m \u001b[0m\u001b[1;31mmain\u001b[0m\u001b[1;31m(\u001b[0m\u001b[1;31m)\u001b[0m\u001b[31m Installed --lib: \u001b[0m\n",
       "\u001b[1;31m2025\u001b[0m\u001b[31m/\u001b[0m\u001b[1;31m05\u001b[0m\u001b[31m/\u001b[0m\u001b[1;31m07\u001b[0m\u001b[31m \u001b[0m\u001b[1;31m05:40:39\u001b[0m\u001b[31m \u001b[0m\u001b[31m \u001b[0m\u001b[1;31mmain\u001b[0m\u001b[1;31m(\u001b[0m\u001b[1;31m)\u001b[0m\u001b[31m Installing --pip: \u001b[0m\n",
       "\u001b[31m  Running command git clone --\u001b[0m\u001b[31mfilter\u001b[0m\u001b[31m=\u001b[0m\u001b[31mblob\u001b[0m\u001b[31m:none --quiet \u001b[0m\u001b[4;31mhttps://github.com/cyber-shuttle/mattertune.git\u001b[0m\u001b[31m \u001b[0m\n",
       "\u001b[31m/home/exouser/cybershuttle/scratch/tmp/\u001b[0m\u001b[31mpip-req-build-9h0_ckrc\u001b[0m\n"
      ]
     },
     "metadata": {},
     "output_type": "display_data"
    },
    {
     "data": {
      "text/html": [
       "<pre style=\"white-space:pre;overflow-x:auto;line-height:normal;font-family:Menlo,'DejaVu Sans Mono',consolas,'Courier New',monospace\"></pre>\n"
      ],
      "text/plain": []
     },
     "metadata": {},
     "output_type": "display_data"
    },
    {
     "name": "stdout",
     "output_type": "stream",
     "text": [
      "local:/var/folders/7q/w33vyq093334h66pxs4dw7j00000gn/T/connection_w23n33g1.json --> hpc_gpu:connection_w23n33g1.json... [200]\n",
      "started proc_name=hpc_gpu_kernel on rt=hpc_gpu. pid=2837\n",
      "forwarding ports=[22995, 22996, 22997, 22998, 22999]\n",
      "hpc_gpu:22995 -> access via 18.118.140.230:10021\n",
      "hpc_gpu:22996 -> access via 18.118.140.230:10022\n",
      "hpc_gpu:22997 -> access via 18.118.140.230:10023\n",
      "hpc_gpu:22998 -> access via 18.118.140.230:10024\n",
      "hpc_gpu:22999 -> access via 18.118.140.230:10025\n",
      "18.118.140.230\n",
      "started ipykernel client for hpc_gpu\n",
      "Remote Jupyter kernel launched and connected for runtime=hpc_gpu.\n",
      "Switched to runtime=hpc_gpu.\n"
     ]
    }
   ],
   "source": [
    "import airavata_jupyter_magic\n",
    "\n",
    "%authenticate\n",
    "%request_runtime hpc_gpu --file=cybershuttle.yml --walltime=60 --use=NeuroData25VC2:cloud\n",
    "%wait_for_runtime hpc_gpu --live\n",
    "%switch_runtime hpc_gpu"
   ]
  },
  {
   "cell_type": "code",
   "execution_count": 2,
   "id": "6bd9d6dd",
   "metadata": {},
   "outputs": [
    {
     "name": "stdout",
     "output_type": "stream",
     "text": [
      "executing cell on hpc_gpu...\n",
      "waiting for cell to finish on hpc_gpu...\n",
      "Note: you may need to restart the kernel to use updated packages.\n",
      "cell finished on hpc_gpu.\n"
     ]
    }
   ],
   "source": [
    "%pip install -qU ipywidgets rich nshconfig-extra"
   ]
  },
  {
   "cell_type": "code",
   "execution_count": 3,
   "id": "15682514-4c7d-4caf-a414-682f36ef5d0c",
   "metadata": {},
   "outputs": [
    {
     "name": "stdout",
     "output_type": "stream",
     "text": [
      "executing cell on hpc_gpu...\n",
      "waiting for cell to finish on hpc_gpu...\n",
      "Wed May  7 05:41:21 2025       \n",
      "+---------------------------------------------------------------------------------------+\n",
      "| NVIDIA-SMI 535.230.02             Driver Version: 535.230.02   CUDA Version: 12.2     |\n",
      "|-----------------------------------------+----------------------+----------------------+\n",
      "| GPU  Name                 Persistence-M | Bus-Id        Disp.A | Volatile Uncorr. ECC |\n",
      "| Fan  Temp   Perf          Pwr:Usage/Cap |         Memory-Usage | GPU-Util  Compute M. |\n",
      "|                                         |                      |               MIG M. |\n",
      "|=========================================+======================+======================|\n",
      "|   0  GRID A100X-10C                 On  | 00000000:04:00.0 Off |                    0 |\n",
      "| N/A   N/A    P0              N/A /  N/A |   1127MiB / 10240MiB |      0%      Default |\n",
      "|                                         |                      |             Disabled |\n",
      "+-----------------------------------------+----------------------+----------------------+\n",
      "                                                                                         \n",
      "+---------------------------------------------------------------------------------------+\n",
      "| Processes:                                                                            |\n",
      "|  GPU   GI   CI        PID   Type   Process name                            GPU Memory |\n",
      "|        ID   ID                                                             Usage      |\n",
      "|=======================================================================================|\n",
      "|    0   N/A  N/A      2018      C   python                                      567MiB |\n",
      "|    0   N/A  N/A      2239      C   python                                      559MiB |\n",
      "+---------------------------------------------------------------------------------------+\n",
      "cell finished on hpc_gpu.\n"
     ]
    }
   ],
   "source": [
    "! nvidia-smi"
   ]
  },
  {
   "cell_type": "code",
   "execution_count": 4,
   "id": "7c32b320-cc89-4f95-9d1c-bff7b4c14dec",
   "metadata": {},
   "outputs": [
    {
     "name": "stdout",
     "output_type": "stream",
     "text": [
      "executing cell on hpc_gpu...\n",
      "waiting for cell to finish on hpc_gpu...\n",
      "--2025-05-07 05:41:24--  https://raw.githubusercontent.com/cyber-shuttle/MatterTune/refs/heads/main/examples/water-thermodynamics/data/train_water_1000_eVAng.xyz\n",
      "Resolving raw.githubusercontent.com (raw.githubusercontent.com)... 185.199.108.133, 185.199.109.133, 185.199.110.133, ...\n",
      "Connecting to raw.githubusercontent.com (raw.githubusercontent.com)|185.199.108.133|:443... connected.\n",
      "HTTP request sent, awaiting response... 200 OK\n",
      "Length: 27217993 (26M) [text/plain]\n",
      "Saving to: ‘train_water_1000_eVAng.xyz’\n",
      "\n",
      "train_water_1000_eV 100%[===================>]  25.96M  --.-KB/s    in 0.1s    \n",
      "\n",
      "2025-05-07 05:41:25 (238 MB/s) - ‘train_water_1000_eVAng.xyz’ saved [27217993/27217993]\n",
      "\n",
      "--2025-05-07 05:41:25--  https://raw.githubusercontent.com/cyber-shuttle/MatterTune/refs/heads/main/examples/water-thermodynamics/data/val_water_1000_eVAng.xyz\n",
      "Resolving raw.githubusercontent.com (raw.githubusercontent.com)... 185.199.111.133, 185.199.108.133, 185.199.109.133, ...\n",
      "Connecting to raw.githubusercontent.com (raw.githubusercontent.com)|185.199.111.133|:443... connected.\n",
      "HTTP request sent, awaiting response... 200 OK\n",
      "Length: 3024227 (2.9M) [text/plain]\n",
      "Saving to: ‘val_water_1000_eVAng.xyz’\n",
      "\n",
      "val_water_1000_eVAn 100%[===================>]   2.88M  --.-KB/s    in 0.05s   \n",
      "\n",
      "2025-05-07 05:41:25 (60.3 MB/s) - ‘val_water_1000_eVAng.xyz’ saved [3024227/3024227]\n",
      "\n",
      "--2025-05-07 05:41:25--  https://raw.githubusercontent.com/cyber-shuttle/MatterTune/refs/heads/main/examples/water-thermodynamics/data/H2O.xyz\n",
      "Resolving raw.githubusercontent.com (raw.githubusercontent.com)... 185.199.110.133, 185.199.111.133, 185.199.108.133, ...\n",
      "Connecting to raw.githubusercontent.com (raw.githubusercontent.com)|185.199.110.133|:443... connected.\n",
      "HTTP request sent, awaiting response... 200 OK\n",
      "Length: 12233 (12K) [text/plain]\n",
      "Saving to: ‘H2O.xyz’\n",
      "\n",
      "H2O.xyz             100%[===================>]  11.95K  --.-KB/s    in 0.001s  \n",
      "\n",
      "2025-05-07 05:41:25 (15.8 MB/s) - ‘H2O.xyz’ saved [12233/12233]\n",
      "\n",
      "--2025-05-07 05:41:26--  https://raw.githubusercontent.com/cyber-shuttle/MatterTune/refs/heads/main/examples/water-thermodynamics/data/water_1000_eVAng-energy_reference.json\n",
      "Resolving raw.githubusercontent.com (raw.githubusercontent.com)... 185.199.109.133, 185.199.110.133, 185.199.111.133, ...\n",
      "Connecting to raw.githubusercontent.com (raw.githubusercontent.com)|185.199.109.133|:443... connected.\n",
      "HTTP request sent, awaiting response... 200 OK\n",
      "Length: 143 [text/plain]\n",
      "Saving to: ‘water_1000_eVAng-energy_reference.json’\n",
      "\n",
      "water_1000_eVAng-en 100%[===================>]     143  --.-KB/s    in 0s      \n",
      "\n",
      "2025-05-07 05:41:26 (13.4 MB/s) - ‘water_1000_eVAng-energy_reference.json’ saved [143/143]\n",
      "\n",
      "cell finished on hpc_gpu.\n"
     ]
    }
   ],
   "source": [
    "! wget https://raw.githubusercontent.com/cyber-shuttle/MatterTune/refs/heads/main/examples/water-thermodynamics/data/train_water_1000_eVAng.xyz -O train_water_1000_eVAng.xyz\n",
    "! wget https://raw.githubusercontent.com/cyber-shuttle/MatterTune/refs/heads/main/examples/water-thermodynamics/data/val_water_1000_eVAng.xyz -O val_water_1000_eVAng.xyz\n",
    "! wget https://raw.githubusercontent.com/cyber-shuttle/MatterTune/refs/heads/main/examples/water-thermodynamics/data/H2O.xyz -O H2O.xyz\n",
    "! wget https://raw.githubusercontent.com/cyber-shuttle/MatterTune/refs/heads/main/examples/water-thermodynamics/data/water_1000_eVAng-energy_reference.json -O water_1000_eVAng-energy_reference.json"
   ]
  },
  {
   "cell_type": "code",
   "execution_count": 5,
   "id": "d14b3106",
   "metadata": {},
   "outputs": [
    {
     "name": "stdout",
     "output_type": "stream",
     "text": [
      "executing cell on hpc_gpu...\n",
      "waiting for cell to finish on hpc_gpu...\n",
      "cell finished on hpc_gpu.\n"
     ]
    }
   ],
   "source": [
    "from __future__ import annotations\n",
    "\n",
    "import logging\n",
    "from pathlib import Path\n",
    "import rich\n",
    "import nshutils as nu\n",
    "import nshconfig as C\n",
    "import nshconfig_extra as CE\n",
    "\n",
    "from ase.io import read\n",
    "from ase import Atoms\n",
    "import numpy as np\n",
    "import torch\n",
    "from tqdm import tqdm\n",
    "\n",
    "import mattertune.configs as MC\n",
    "from mattertune import MatterTuner\n",
    "from mattertune.backbones import (\n",
    "    MatterSimM3GNetBackboneModule,\n",
    "    JMPBackboneModule,\n",
    "    ORBBackboneModule,\n",
    "    EqV2BackboneModule,\n",
    ")"
   ]
  },
  {
   "cell_type": "code",
   "execution_count": 6,
   "id": "48d6f476",
   "metadata": {},
   "outputs": [
    {
     "name": "stdout",
     "output_type": "stream",
     "text": [
      "executing cell on hpc_gpu...\n",
      "waiting for cell to finish on hpc_gpu...\n",
      "cell finished on hpc_gpu.\n"
     ]
    }
   ],
   "source": [
    "def fine_tune(args_dict: dict):\n",
    "    \"\"\"\n",
    "    Fine-tune a Pre-trained Atomistic Foundation Model using MatterTuner.\n",
    "    - args_dict: Dictionary containing hyperparameters and configurations for fine-tuning.\n",
    "    \"\"\"\n",
    "    def hparams():\n",
    "        hparams = MC.MatterTunerConfig.draft()\n",
    "\n",
    "        ## Choose Backbone Model type\n",
    "        if args_dict[\"model_type\"] == \"mattersim-1m\":\n",
    "            hparams.model = MC.MatterSimBackboneConfig.draft()\n",
    "            hparams.model.graph_convertor = MC.MatterSimGraphConvertorConfig.draft()\n",
    "            hparams.model.pretrained_model = \"MatterSim-v1.0.0-1M\"\n",
    "        elif args_dict[\"model_type\"] == \"jmp-s\":\n",
    "            hparams.model = MC.JMPBackboneConfig.draft()\n",
    "            hparams.model.graph_computer = MC.JMPGraphComputerConfig.draft()\n",
    "            hparams.model.graph_computer.pbc = True\n",
    "            hparams.model.pretrained_model = \"jmp-s\"\n",
    "        elif \"orb\" in args_dict[\"model_type\"]:\n",
    "            hparams.model = MC.ORBBackboneConfig.draft()\n",
    "            hparams.model.pretrained_model = args_dict[\"model_type\"]\n",
    "        elif args_dict[\"model_type\"] == \"eqv2\":\n",
    "            hparams.model = MC.EqV2BackboneConfig.draft()\n",
    "            hparams.model.checkpoint_path = CE.CachedPathConfig(uri=\"hf://facebook/OMAT24/eqV2_31M_mp.pt\").resolve()\n",
    "            hparams.model.atoms_to_graph = MC.FAIRChemAtomsToGraphSystemConfig.draft()\n",
    "            hparams.model.atoms_to_graph.radius = 8.0\n",
    "            hparams.model.atoms_to_graph.max_num_neighbors = 20\n",
    "        else:\n",
    "            raise ValueError(\n",
    "                \"Invalid model type, please choose from ['mattersim-1m', 'jmp-s', 'orb-v2']\"\n",
    "            )\n",
    "        hparams.model.reset_output_heads = True\n",
    "\n",
    "        ## Set Hyperparameters of optimizer and scheduler\n",
    "        hparams.model.optimizer = MC.AdamWConfig(\n",
    "            lr=args_dict[\"lr\"],\n",
    "            amsgrad=False,\n",
    "            betas=(0.9, 0.95),\n",
    "            eps=1.0e-8,\n",
    "            weight_decay=0.1,\n",
    "        )\n",
    "        hparams.model.lr_scheduler = MC.ReduceOnPlateauConfig(\n",
    "            mode=\"min\",\n",
    "            monitor=f\"val/forces_mae\",\n",
    "            factor=0.8,\n",
    "            patience=5,\n",
    "            min_lr=1e-8,\n",
    "        )\n",
    "        hparams.trainer.ema = MC.EMAConfig(decay=0.99)\n",
    "\n",
    "        # Add model properties, these are the properties to be predicted by the model\n",
    "        hparams.model.properties = []\n",
    "        energy_coefficient = 1.0\n",
    "        conservative = args_dict[\"conservative\"] or \"mattersim\" in args_dict[\"model_type\"]\n",
    "        energy = MC.EnergyPropertyConfig(\n",
    "            loss=MC.MSELossConfig(), loss_coefficient=energy_coefficient\n",
    "        )\n",
    "        hparams.model.properties.append(energy)\n",
    "        forces = MC.ForcesPropertyConfig(\n",
    "            loss=MC.MSELossConfig(), conservative=conservative, loss_coefficient=1.0\n",
    "        )\n",
    "        hparams.model.properties.append(forces)\n",
    "\n",
    "        ## Set Data Module to load the dataset\n",
    "        ## Here we downsampled 30 data points from the original training set because it's already enough\n",
    "        hparams.data = MC.ManualSplitDataModuleConfig.draft()\n",
    "        hparams.data.train = MC.XYZDatasetConfig.draft()\n",
    "        hparams.data.train.src = \"./train_water_1000_eVAng.xyz\"\n",
    "        hparams.data.train.down_sample = 30\n",
    "        hparams.data.train.down_sample_refill = True ### Although we only used 30 samples, we repeate them to reach the original dataset size\n",
    "        hparams.data.validation = MC.XYZDatasetConfig.draft()\n",
    "        hparams.data.validation.src = \"./val_water_1000_eVAng.xyz\"\n",
    "        hparams.data.batch_size = args_dict[\"batch_size\"]\n",
    "        hparams.data.num_workers = 0\n",
    "\n",
    "        ## Normalization usually helps with training stability and convergence\n",
    "        ## Here we normalize the energy firstly by linear referencing and then divide by number of atoms\n",
    "        hparams.model.normalizers = {\n",
    "            \"energy\": [\n",
    "                MC.PerAtomReferencingNormalizerConfig(\n",
    "                    per_atom_references=Path(\"./water_1000_eVAng-energy_reference.json\")\n",
    "                ),\n",
    "                MC.PerAtomNormalizerConfig(),\n",
    "            ]\n",
    "        }\n",
    "\n",
    "        ## Trainer Hyperparameters, used to configure number of epochs, devices, etc.\n",
    "        hparams.trainer = MC.TrainerConfig.draft()\n",
    "        hparams.trainer.max_epochs = args_dict[\"max_epochs\"]\n",
    "        hparams.trainer.accelerator = \"gpu\"\n",
    "        hparams.trainer.devices = args_dict[\"devices\"]\n",
    "        hparams.trainer.gradient_clip_algorithm = \"norm\"\n",
    "        hparams.trainer.gradient_clip_val = 1.0\n",
    "        hparams.trainer.precision = \"32\"\n",
    "\n",
    "        ## Configure Early Stopping\n",
    "        hparams.trainer.early_stopping = MC.EarlyStoppingConfig(\n",
    "            monitor=f\"val/forces_mae\", patience=50, mode=\"min\"\n",
    "        )\n",
    "\n",
    "        ## Configure Model Checkpoint\n",
    "        hparams.trainer.checkpoint = MC.ModelCheckpointConfig(\n",
    "            monitor=\"val/forces_mae\",\n",
    "            dirpath=\"./checkpoints\",\n",
    "            filename=f\"{args_dict['model_type']}-best\",\n",
    "            save_top_k=1,\n",
    "            mode=\"min\",\n",
    "        )\n",
    "\n",
    "        ## Configure Logger\n",
    "        hparams.trainer.loggers = [\n",
    "            MC.TensorBoardLoggerConfig(\n",
    "                save_dir=\"./logs\",\n",
    "                name=f\"{args_dict['model_type']}-tune\",\n",
    "                version=0,\n",
    "            ),\n",
    "        ]\n",
    "\n",
    "        ## Additional trainer settings\n",
    "        ## Here since mattersim models are conservative, we set inference_mode to False to enable differentiable energy prediction\n",
    "        from lightning.pytorch.callbacks import RichProgressBar\n",
    "        hparams.trainer.additional_trainer_kwargs = {\n",
    "            \"inference_mode\": False,\n",
    "            \"callbacks\": [RichProgressBar()],\n",
    "        }\n",
    "\n",
    "\n",
    "        hparams = hparams.finalize(strict=False)\n",
    "        return hparams\n",
    "\n",
    "    mt_config = hparams()\n",
    "    model, trainer = MatterTuner(mt_config).tune()\n"
   ]
  },
  {
   "cell_type": "code",
   "execution_count": 7,
   "id": "f5b89186",
   "metadata": {},
   "outputs": [
    {
     "name": "stdout",
     "output_type": "stream",
     "text": [
      "executing cell on hpc_gpu...\n",
      "waiting for cell to finish on hpc_gpu...\n",
      "cell finished on hpc_gpu.\n"
     ]
    }
   ],
   "source": [
    "def inference(args_dict: dict):\n",
    "    \"\"\"\n",
    "    Perform inference using the fine-tuned model on the validation dataset.\n",
    "    Load the fine-tuned model from the checkpoint using .load_from_checkpoint function.\n",
    "    Convert the loaded model to an ASE calculator using the `ase_calculator` method.\n",
    "    Evaluate the model on the validation dataset and compute the MAE for energies and forces.\n",
    "    \"\"\"\n",
    "\n",
    "    ckpt_path = f\"./checkpoints/{args_dict['model_type']}-best.ckpt\"\n",
    "    if \"mattersim\" in args_dict[\"model_type\"]:\n",
    "        ft_model = MatterSimM3GNetBackboneModule.load_from_checkpoint(ckpt_path)\n",
    "    elif \"jmp\" in args_dict[\"model_type\"]:\n",
    "        ft_model = JMPBackboneModule.load_from_checkpoint(ckpt_path)\n",
    "    elif \"orb\" in args_dict[\"model_type\"]:\n",
    "        ft_model = ORBBackboneModule.load_from_checkpoint(ckpt_path)\n",
    "    elif \"eqv2\" in args_dict[\"model_type\"]:\n",
    "        ft_model = EqV2BackboneModule.load_from_checkpoint(ckpt_path)\n",
    "    else:\n",
    "        raise ValueError(\n",
    "            \"Invalid model type, please choose from ['mattersim-1m', 'jmp-s', 'orb-v2', 'eqv2']\"\n",
    "        )\n",
    "\n",
    "    val_atoms_list:list[Atoms] = read(\"./val_water_1000_eVAng.xyz\", \":\") # type: ignore\n",
    "    calc = ft_model.ase_calculator(\n",
    "        device = f\"cuda:{args_dict['devices'][0]}\"\n",
    "    )\n",
    "    energies_per_atom = []\n",
    "    forces = []\n",
    "    pred_energies_per_atom = []\n",
    "    pred_forces = []\n",
    "    for atoms in tqdm(val_atoms_list):\n",
    "        energies_per_atom.append(atoms.get_potential_energy() / len(atoms))\n",
    "        forces.extend(np.array(atoms.get_forces()).tolist())\n",
    "        atoms.set_calculator(calc)\n",
    "        pred_energies_per_atom.append(atoms.get_potential_energy() / len(atoms))\n",
    "        pred_forces.extend(np.array(atoms.get_forces()).tolist())\n",
    "\n",
    "    e_mae = torch.nn.L1Loss()(torch.tensor(energies_per_atom), torch.tensor(pred_energies_per_atom))\n",
    "    f_mae = torch.nn.L1Loss()(torch.tensor(forces), torch.tensor(pred_forces))\n",
    "\n",
    "    rich.print(f\"Energy MAE: {e_mae} eV/atom\")\n",
    "    rich.print(f\"Forces MAE: {f_mae} eV/Ang\")"
   ]
  },
  {
   "cell_type": "code",
   "execution_count": 8,
   "id": "73862e39",
   "metadata": {},
   "outputs": [
    {
     "name": "stdout",
     "output_type": "stream",
     "text": [
      "executing cell on hpc_gpu...\n",
      "waiting for cell to finish on hpc_gpu...\n",
      "cell finished on hpc_gpu.\n"
     ]
    }
   ],
   "source": [
    "## We support various logging methods, including TensorBoard, WandB, and CSV files.\n",
    "## In this demo we used TensorBoard, so we can visualize the training process using TensorBoard.\n",
    "## Below is a script to visualize the training loss using TensorBoard logs.\n",
    "\n",
    "def visualize_tensorboard_logs(metric_name: str, unit: str):\n",
    "    from tensorboard.backend.event_processing import event_accumulator\n",
    "    import matplotlib.pyplot as plt\n",
    "\n",
    "    print(\"Step 1\")\n",
    "    # Read the event file\n",
    "    ea = event_accumulator.EventAccumulator(\"./logs/mattersim-1m-tune/version_0\")\n",
    "    print(\"Step 2\")\n",
    "    ea.Reload()\n",
    "\n",
    "    print(\"Step 3\")\n",
    "    # Check what scalar tags are available\n",
    "    print(ea.Tags()[\"scalars\"])\n",
    "\n",
    "    print(\"Step 4\")\n",
    "\n",
    "    # For example, we export the 'loss' curve\n",
    "    scalar_events = ea.Scalars(metric_name)\n",
    "    steps = [e.step for e in scalar_events]\n",
    "    values = [e.value for e in scalar_events]\n",
    "\n",
    "    # Plotting\n",
    "    plt.plot(steps, values)\n",
    "    plt.xlabel(\"Step\")\n",
    "    plt.ylabel(metric_name)\n",
    "    plt.title(f\"{metric_name} ({unit}) over steps\")\n",
    "    plt.show()"
   ]
  },
  {
   "cell_type": "code",
   "execution_count": 9,
   "id": "3478f28b-bd70-49f9-81fa-c3d53e0ee4ed",
   "metadata": {},
   "outputs": [
    {
     "name": "stdout",
     "output_type": "stream",
     "text": [
      "executing cell on hpc_gpu...\n",
      "waiting for cell to finish on hpc_gpu...\n",
      "A1778659947\t\t  job_264880867.slurm\n",
      "AiravataAgent.stderr\t  kernel.py\n",
      "AiravataAgent.stdout\t  micromamba\n",
      "H2O.xyz\t\t\t  train_water_1000_eVAng.xyz\n",
      "airavata-agent\t\t  val_water_1000_eVAng.xyz\n",
      "application\t\t  water_1000_eVAng-energy_reference.json\n",
      "connection_qtynh60v.json\n",
      "cell finished on hpc_gpu.\n"
     ]
    }
   ],
   "source": [
    "! ls"
   ]
  },
  {
   "cell_type": "code",
   "execution_count": 9,
   "id": "b8b02ee0",
   "metadata": {},
   "outputs": [
    {
     "name": "stdout",
     "output_type": "stream",
     "text": [
      "Epoch 1/1  \u001b[38;2;98;6;224m━━━━━━━━━━━━━━━━━━━━━━━━━━━━━━━━━━━━━━━━\u001b[0m 450/450 \u001b[2m0:01:04 • 0:00:00\u001b[0m \u001b[2;4m6.90it/s\u001b[0m \u001b[3mv_num: 0.000\u001b[0m\n",
      "\n"
     ]
    },
    {
     "data": {
      "text/html": [
       "<pre style=\"white-space:pre;overflow-x:auto;line-height:normal;font-family:Menlo,'DejaVu Sans Mono',consolas,'Courier New',monospace\">Epoch 1/1  <span style=\"color: #6206e0; text-decoration-color: #6206e0\">━━━━━━━━━━━━━━━━━━━━━━━━━━━━━━━━━━━━━━━━</span> 450/450 <span style=\"color: #7f7f7f; text-decoration-color: #7f7f7f\">0:01:04 • 0:00:00</span> <span style=\"color: #7f7f7f; text-decoration-color: #7f7f7f; text-decoration: underline\">6.90it/s</span> <span style=\"font-style: italic\">v_num: 0.000</span>\n",
       "</pre>\n"
      ],
      "text/plain": [
       "<IPython.core.display.HTML object>"
      ]
     },
     "metadata": {},
     "output_type": "display_data"
    },
    {
     "name": "stdout",
     "output_type": "stream",
     "text": [
      "\n"
     ]
    },
    {
     "name": "stderr",
     "output_type": "stream",
     "text": [
      "`Trainer.fit` stopped: `max_epochs=2` reached.\n"
     ]
    },
    {
     "data": {
      "text/html": [
       "<pre style=\"white-space:pre;overflow-x:auto;line-height:normal;font-family:Menlo,'DejaVu Sans Mono',consolas,'Courier New',monospace\"></pre>\n"
      ],
      "text/plain": [
       "<IPython.core.display.HTML object>"
      ]
     },
     "metadata": {},
     "output_type": "display_data"
    },
    {
     "name": "stdout",
     "output_type": "stream",
     "text": [
      "cell finished on hpc_gpu.\n"
     ]
    }
   ],
   "source": [
    "configs = {\n",
    "    \"model_type\": \"mattersim-1m\",\n",
    "    \"conservative\": True,\n",
    "    \"batch_size\": 2,\n",
    "    \"max_epochs\": 2,\n",
    "    \"lr\": 8e-5,\n",
    "    \"devices\": [0],\n",
    "}\n",
    "fine_tune(configs)"
   ]
  },
  {
   "cell_type": "code",
   "execution_count": 10,
   "id": "b89cf956",
   "metadata": {},
   "outputs": [
    {
     "name": "stdout",
     "output_type": "stream",
     "text": [
      "executing cell on hpc_gpu...\n",
      "waiting for cell to finish on hpc_gpu...\n",
      "Step 1\n",
      "Step 2\n",
      "Step 3\n",
      "['hp_metric', 'train/energy_loss', 'train/forces_loss', 'train/total_loss', 'train/energy_mae_step', 'train/energy_mse_step', 'train/energy_rmse_step', 'train/forces_mae_step', 'train/forces_mse_step', 'train/forces_rmse_step', 'lr', 'epoch', 'val/energy_loss', 'val/forces_loss', 'val/total_loss', 'val/energy_mae', 'val/energy_mse', 'val/energy_rmse', 'val/forces_mae', 'val/forces_mse', 'val/forces_rmse', 'train/energy_mae_epoch', 'train/energy_mse_epoch', 'train/energy_rmse_epoch', 'train/forces_mae_epoch', 'train/forces_mse_epoch', 'train/forces_rmse_epoch']\n",
      "Step 4\n",
      "<Figure size 640x480 with 1 Axes>\n"
     ]
    },
    {
     "data": {
      "image/png": "[encoded data removed]",
      "text/plain": [
       "<IPython.core.display.Image object>"
      ]
     },
     "metadata": {},
     "output_type": "display_data"
    },
    {
     "name": "stdout",
     "output_type": "stream",
     "text": [
      "cell finished on hpc_gpu.\n"
     ]
    }
   ],
   "source": [
    "visualize_tensorboard_logs(\"val/forces_mae\", unit=\"eV/Ang\")"
   ]
  },
  {
   "cell_type": "code",
   "execution_count": 11,
   "id": "b18fa42b",
   "metadata": {},
   "outputs": [
    {
     "name": "stdout",
     "output_type": "stream",
     "text": [
      "executing cell on hpc_gpu...\n",
      "waiting for cell to finish on hpc_gpu...\n"
     ]
    },
    {
     "name": "stderr",
     "output_type": "stream",
     "text": [
      "  0%|          | 0/100 [00:00<?, ?it/s]/home/exouser/cybershuttle/scratch/tmp/ipykernel_2839/185371620.py:34: FutureWarning: Please use atoms.calc = calc\n",
      "  atoms.set_calculator(calc)\n",
      " 98%|█████████▊| 98/100 [00:09<00:00, 10.59it/s]"
     ]
    },
    {
     "name": "stdout",
     "output_type": "stream",
     "text": [
      "Energy MAE: \u001b[1;36m0.0026172383626311556\u001b[0m eV/atom\n",
      "\n"
     ]
    },
    {
     "name": "stderr",
     "output_type": "stream",
     "text": [
      "100%|██████████| 100/100 [00:09<00:00, 10.05it/s]\n"
     ]
    },
    {
     "data": {
      "text/html": [
       "<pre style=\"white-space:pre;overflow-x:auto;line-height:normal;font-family:Menlo,'DejaVu Sans Mono',consolas,'Courier New',monospace\">Energy MAE: <span style=\"color: #008080; text-decoration-color: #008080; font-weight: bold\">0.0026172383626311556</span> eV/atom\n",
       "</pre>\n"
      ],
      "text/plain": [
       "<IPython.core.display.HTML object>"
      ]
     },
     "metadata": {},
     "output_type": "display_data"
    },
    {
     "name": "stdout",
     "output_type": "stream",
     "text": [
      "Forces MAE: \u001b[1;36m0.058446262031793594\u001b[0m eV/Ang\n",
      "\n"
     ]
    },
    {
     "data": {
      "text/html": [
       "<pre style=\"white-space:pre;overflow-x:auto;line-height:normal;font-family:Menlo,'DejaVu Sans Mono',consolas,'Courier New',monospace\">Forces MAE: <span style=\"color: #008080; text-decoration-color: #008080; font-weight: bold\">0.058446262031793594</span> eV/Ang\n",
       "</pre>\n"
      ],
      "text/plain": [
       "<IPython.core.display.HTML object>"
      ]
     },
     "metadata": {},
     "output_type": "display_data"
    },
    {
     "name": "stdout",
     "output_type": "stream",
     "text": [
      "cell finished on hpc_gpu.\n"
     ]
    }
   ],
   "source": [
    "inference(configs)"
   ]
  },
  {
   "cell_type": "code",
   "execution_count": 12,
   "id": "aa5d43d9",
   "metadata": {},
   "outputs": [
    {
     "name": "stdout",
     "output_type": "stream",
     "text": [
      "executing cell on hpc_gpu...\n",
      "waiting for cell to finish on hpc_gpu...\n"
     ]
    },
    {
     "name": "stderr",
     "output_type": "stream",
     "text": [
      "MD Simulation Steps (Temperature: 33.30 K/300.00 K):  99%|█████████▉| 99/100 [00:04<00:00, 20.52it/s]"
     ]
    },
    {
     "name": "stdout",
     "output_type": "stream",
     "text": [
      "<Figure size 640x480 with 1 Axes>\n"
     ]
    },
    {
     "data": {
      "image/png": "[encoded data removed]",
      "text/plain": [
       "<IPython.core.display.Image object>"
      ]
     },
     "metadata": {},
     "output_type": "display_data"
    },
    {
     "name": "stdout",
     "output_type": "stream",
     "text": [
      "cell finished on hpc_gpu.\n"
     ]
    }
   ],
   "source": [
    "## Further we can use the fine-tuned model to run Molecular Dynamics (MD) simulations.\n",
    "from ase.md.langevin import Langevin\n",
    "import ase.units as units\n",
    "import matplotlib.pyplot as plt\n",
    "\n",
    "atoms:Atoms = read(\"./H2O.xyz\")  # type: ignore\n",
    "atoms.pbc = True\n",
    "ft_model = MatterSimM3GNetBackboneModule.load_from_checkpoint(\"./checkpoints/mattersim-1m-best.ckpt\")\n",
    "calc = ft_model.ase_calculator()\n",
    "atoms.calc = calc\n",
    "\n",
    "dyn = Langevin(\n",
    "    atoms,\n",
    "    temperature_K=300,\n",
    "    timestep=0.5 * units.fs,\n",
    "    friction=0.02,\n",
    ")\n",
    "pbar = tqdm(total=100, desc=\"MD Simulation Steps\")\n",
    "temperatures = []\n",
    "for step in range(100):\n",
    "    dyn.step()\n",
    "    temp = atoms.get_temperature()\n",
    "    pbar.set_description(f\"MD Simulation Steps (Temperature: {temp:.2f} K/{300:.2f} K)\")\n",
    "    pbar.update(1)\n",
    "    temperatures.append(temp)\n",
    "\n",
    "plt.plot(temperatures)\n",
    "plt.xlabel(\"steps\")\n",
    "plt.ylabel(\"temperature (K)\")\n",
    "plt.show()"
   ]
  },
  {
   "cell_type": "code",
   "execution_count": 13,
   "id": "e9869904",
   "metadata": {},
   "outputs": [
    {
     "name": "stdout",
     "output_type": "stream",
     "text": [
      "Terminated runtime=hpc_gpu. state={'experimentId': 'CS_Agent_7253c1f3-f545-4bb7-b1f6-64fff94008ef', 'terminated': True}\n"
     ]
    }
   ],
   "source": [
    "%stop_runtime hpc_gpu"
   ]
  },
  {
   "cell_type": "code",
   "execution_count": null,
   "id": "ea1683de-7a67-4175-a3c6-9f133163a515",
   "metadata": {},
   "outputs": [],
   "source": []
  }
 ],
 "metadata": {
  "kernelspec": {
   "display_name": "Python 3 (ipykernel)",
   "language": "python",
   "name": "python3"
  },
  "language_info": {
   "codemirror_mode": {
    "name": "ipython",
    "version": 3
   },
   "file_extension": ".py",
   "mimetype": "text/x-python",
   "name": "python",
   "nbconvert_exporter": "python",
   "pygments_lexer": "ipython3",
   "version": "3.12.7"
  }
 },
 "nbformat": 4,
 "nbformat_minor": 5
}
